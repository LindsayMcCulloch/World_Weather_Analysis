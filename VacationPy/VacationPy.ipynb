{
 "cells": [
  {
   "cell_type": "code",
   "execution_count": null,
   "id": "7afdf8f8",
   "metadata": {},
   "outputs": [],
   "source": [
    "# Dependencies and Setup\n",
    "import hvplot.pandas\n",
    "import pandas as pd\n",
    "import requests\n",
    "\n",
    "# Import API key\n",
    "from config import geoapify_key"
   ]
  },
  {
   "cell_type": "code",
   "execution_count": null,
   "id": "969b5a04",
   "metadata": {},
   "outputs": [],
   "source": [
    "# Load the CSV file created in Part 1 into a Pandas DataFrame\n",
    "city_data_df = pd.read_csv(\"output_data/cities.csv\")\n",
    "\n",
    "# Display sample data\n",
    "city_data_df.head()"
   ]
  },
  {
   "cell_type": "code",
   "execution_count": null,
   "id": "a3ad20e9",
   "metadata": {},
   "outputs": [],
   "source": [
    "#\n",
    "Create a map that displays a point for every city in the city_data_df DataFrame. The size of the point should be the humidity in each city."
   ]
  },
  {
   "cell_type": "code",
   "execution_count": null,
   "id": "f45a8d29",
   "metadata": {},
   "outputs": [],
   "source": [
    "%%capture --no-display\n",
    "\n",
    "# Configure the map plot\n",
    "city_map = city_data_df.hvplot.points(\"Lng\", \n",
    "                                      \"Lat\", \n",
    "                                      geo = True,\n",
    "                                      color = \"City\",\n",
    "                                      alpha = 0.6,\n",
    "                                      size = \"Humidity\",\n",
    "                                      tiles = \"OSM\"\n",
    "                                     )\n",
    "\n",
    "# Display the map\n",
    "city_map"
   ]
  },
  {
   "cell_type": "code",
   "execution_count": null,
   "id": "b7bd2b8c",
   "metadata": {},
   "outputs": [],
   "source": [
    "#Narrow down the city_data_df DataFrame to find your ideal weather condition"
   ]
  },
  {
   "cell_type": "code",
   "execution_count": null,
   "id": "092bc31b",
   "metadata": {},
   "outputs": [],
   "source": [
    "\n",
    "# Narrow down cities that fit criteria and drop any results with null values\n",
    "\n",
    "# My Criteria:\n",
    "# A max temperature lower than 27 degrees but higher than 21\n",
    "# Cloudiness less than 3\n",
    "# Wind speed less than 4.5 m/s\n",
    "\n",
    "\n",
    "weather_filtered_df = city_data_df.loc[(city_data_df[\"Max Temp\"] < 27)\n",
    "                                       & (city_data_df[\"Max Temp\"] > 21) \n",
    "                                       & (city_data_df[\"Cloudiness\"] < 3)\n",
    "                                       & (city_data_df[\"Wind Speed\"] < 4.5)\n",
    "                                      ]\n",
    "\n",
    "# Drop any rows with null values\n",
    "weather_filtered_df.dropna()\n",
    "\n",
    "# Display sample data\n",
    "weather_filtered_df"
   ]
  },
  {
   "cell_type": "code",
   "execution_count": null,
   "id": "c23d52b9",
   "metadata": {},
   "outputs": [],
   "source": [
    "Create a new DataFrame called hotel_df."
   ]
  },
  {
   "cell_type": "code",
   "execution_count": null,
   "id": "53936c78",
   "metadata": {},
   "outputs": [],
   "source": [
    "# Use the Pandas copy function to create DataFrame called hotel_df to store the city, country, coordinates, and humidity\n",
    "hotel_df = weather_filtered_df[[\"City\", \"Country\", \"Lat\", \"Lng\", \"Humidity\"]].copy()\n",
    "\n",
    "# Add an empty column, \"Hotel Name,\" to the DataFrame so you can store the hotel found using the Geoapify API\n",
    "hotel_df[\"Hotel Name\"] = \"\"\n",
    "\n",
    "# Display sample data\n",
    "hotel_df"
   ]
  },
  {
   "cell_type": "code",
   "execution_count": null,
   "id": "75c2a3ef",
   "metadata": {},
   "outputs": [],
   "source": [
    "#For each city, use the Geoapify API to find the first hotel located within 10,000 metres of your coordinates."
   ]
  },
  {
   "cell_type": "code",
   "execution_count": null,
   "id": "45666232",
   "metadata": {},
   "outputs": [],
   "source": [
    "# Set parameters to search for a hotel\n",
    "radius = 10000 \n",
    "params = {\"categories\": \"accommodation.hotel\",\n",
    "          \"apiKey\":geoapify_key\n",
    "         }\n",
    "\n",
    "# Print a message to follow up the hotel search\n",
    "print(\"Starting hotel search\")\n",
    "\n",
    "# Iterate through the hotel_df DataFrame\n",
    "for index, row in hotel_df.iterrows():\n",
    "    # get latitude, longitude from the DataFrame\n",
    "    longitude = row[\"Lng\"]\n",
    "    latitude = row[\"Lat\"]\n",
    "\n",
    "    # Add filter and bias parameters with the current city's latitude and longitude to the params dictionary\n",
    "    params[\"filter\"] =  f\"circle:{longitude},{latitude},{radius}\"\n",
    "    params[\"bias\"] = f\"proximity:{longitude},{latitude}\"\n",
    "\n",
    "    # Set base URL\n",
    "    base_url = \"https://api.geoapify.com/v2/places\"\n",
    "\n",
    "    # Make and API request using the params dictionaty\n",
    "    name_address = requests.get(base_url, params = params)\n",
    "    \n",
    "    # Convert the API response to JSON format\n",
    "    name_address = name_address.json()\n",
    "    \n",
    "    # Grab the first hotel from the results and store the name in the hotel_df DataFrame\n",
    "    try:\n",
    "        hotel_df.loc[index, \"Hotel Name\"] = name_address[\"features\"][0][\"properties\"][\"name\"]\n",
    "    except (KeyError, IndexError):\n",
    "        # If no hotel is found, set the hotel name as \"No hotel found\".\n",
    "        hotel_df.loc[index, \"Hotel Name\"] = \"No hotel found\"\n",
    "        \n",
    "    # Log the search results\n",
    "    print(f\"{hotel_df.loc[index, 'City']} - nearest hotel: {hotel_df.loc[index, 'Hotel Name']}\")\n",
    "    \n",
    "# Display sample data\n",
    "hotel_df"
   ]
  },
  {
   "cell_type": "code",
   "execution_count": null,
   "id": "0735cbae",
   "metadata": {},
   "outputs": [],
   "source": [
    "Add the hotel name and the country as additional information in the hover message for each city in the map."
   ]
  },
  {
   "cell_type": "code",
   "execution_count": null,
   "id": "8f6a60f8",
   "metadata": {},
   "outputs": [],
   "source": [
    "%%capture --no-display\n",
    "\n",
    "# Configure the map plot\n",
    "hotel_map = hotel_df.hvplot.points(\"Lng\", \n",
    "                                   \"Lat\", \n",
    "                                   geo = True,\n",
    "                                   color = \"City\",\n",
    "                                   alpha = 0.8,\n",
    "                                   size = \"Humidity\",\n",
    "                                   tiles = \"OSM\",\n",
    "                                   hover_cols = [\"Hotel Name\", \"Country\"]\n",
    "                                  )\n",
    "\n",
    "# Display the map\n",
    "hotel_map"
   ]
  }
 ],
 "metadata": {
  "kernelspec": {
   "display_name": "Python 3 (ipykernel)",
   "language": "python",
   "name": "python3"
  },
  "language_info": {
   "codemirror_mode": {
    "name": "ipython",
    "version": 3
   },
   "file_extension": ".py",
   "mimetype": "text/x-python",
   "name": "python",
   "nbconvert_exporter": "python",
   "pygments_lexer": "ipython3",
   "version": "3.11.7"
  }
 },
 "nbformat": 4,
 "nbformat_minor": 5
}
